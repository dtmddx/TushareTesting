{
 "cells": [
  {
   "cell_type": "code",
   "execution_count": 27,
   "metadata": {},
   "outputs": [],
   "source": [
    "import tushare as ts\n",
    "import matplotlib as mpl\n",
    "import mpl_finance as mpf\n",
    "from matplotlib.pylab import date2num\n",
    "import datetime\n",
    "import pickle"
   ]
  },
  {
   "cell_type": "code",
   "execution_count": 37,
   "metadata": {
    "scrolled": true
   },
   "outputs": [
    {
     "name": "stdout",
     "output_type": "stream",
     "text": [
      "<bound method NDFrame.head of              open   high  close    low    volume  price_change  p_change  \\\n",
      "date                                                                       \n",
      "2018-06-14  21.76  21.94  21.68  21.56  15457.00         -0.07     -0.32   \n",
      "2018-06-13  22.00  22.14  21.76  21.74  15149.00         -0.32     -1.45   \n",
      "2018-06-12  21.94  22.15  22.08  21.77  16061.00          0.14      0.64   \n",
      "2018-06-11  22.01  22.16  21.95  21.81  15324.49         -0.06     -0.27   \n",
      "2018-06-08  22.16  22.16  22.00  21.81  23499.00         -0.32     -1.43   \n",
      "2018-06-07  22.88  22.88  22.33  22.23  32495.78         -0.29     -1.28   \n",
      "2018-06-06  23.10  23.23  22.68  22.48  63223.83          0.65      2.95   \n",
      "2018-06-05  21.73  22.05  22.03  21.69  19257.19          0.30      1.38   \n",
      "2018-06-04  21.82  22.07  21.73  21.53  18135.00          0.00      0.00   \n",
      "2018-06-01  22.12  22.12  21.73  21.61  25226.00         -0.33     -1.50   \n",
      "\n",
      "               ma5    ma10    ma20     v_ma5    v_ma10    v_ma20  \n",
      "date                                                              \n",
      "2018-06-14  21.894  21.997  22.586  17098.10  24382.83  35231.77  \n",
      "2018-06-13  22.024  22.037  22.687  20505.85  25793.33  36796.97  \n",
      "2018-06-12  22.208  22.030  22.810  30120.82  30269.81  39196.25  \n",
      "2018-06-11  22.198  22.114  22.942  30760.06  31866.32  45781.87  \n",
      "2018-06-08  22.154  22.229  23.080  31322.16  36495.50  50098.45  \n",
      "2018-06-07  22.100  22.406  23.160  31667.56  45713.75  50083.74  \n",
      "2018-06-06  22.050  22.501  23.232  31080.80  44615.07  49943.70  \n",
      "2018-06-05  21.852  22.567  23.284  30418.80  40928.37  48503.45  \n",
      "2018-06-04  22.030  22.746  23.380  32972.58  42212.66  50242.23  \n",
      "2018-06-01  22.304  22.968  23.471  41668.83  44725.76  51484.17  >\n",
      "---------------------------------\n",
      "<bound method NDFrame.head of            date   open  close   high    low   volume    code\n",
      "99   2018-06-01  22.12  21.73  22.12  21.61  25226.0  600848\n",
      "100  2018-06-04  21.82  21.73  22.07  21.53  18135.0  600848\n",
      "101  2018-06-05  21.73  22.03  22.05  21.69  19257.0  600848\n",
      "102  2018-06-06  23.10  22.62  23.23  22.48  63223.0  600848\n",
      "103  2018-06-07  22.88  22.32  22.88  22.23  32495.0  600848\n",
      "104  2018-06-08  22.16  22.01  22.16  21.81  23499.0  600848\n",
      "105  2018-06-11  22.01  21.94  22.16  21.81  15324.0  600848\n",
      "106  2018-06-12  21.94  22.08  22.15  21.77  16061.0  600848\n",
      "107  2018-06-13  22.00  21.75  22.14  21.74  15149.0  600848\n",
      "108  2018-06-14  21.76  21.67  21.94  21.56  15457.0  600848>\n"
     ]
    }
   ],
   "source": [
    "code = \"600848\"\n",
    "start_time = \"2018-06-01\"\n",
    "end_time = \"2018-07-01\"\n",
    "df_hist = ts.get_hist_data(code, start=start_time, end=end_time, ktype = \"D\")\n",
    "df_k = ts.get_k_data(code, start=start_time, end=end_time, ktype = \"D\")\n",
    "print(df_hist.head)\n",
    "print(\"---\" * 11)\n",
    "print(df_k.head)"
   ]
  },
  {
   "cell_type": "code",
   "execution_count": 39,
   "metadata": {},
   "outputs": [
    {
     "data": {
      "text/plain": [
       "array([[ 2.176000e+01,  2.194000e+01,  2.168000e+01,  2.156000e+01,\n",
       "         1.545700e+04, -7.000000e-02, -3.200000e-01,  2.189400e+01,\n",
       "         2.199700e+01,  2.258600e+01,  1.709810e+04,  2.438283e+04,\n",
       "         3.523177e+04],\n",
       "       [ 2.200000e+01,  2.214000e+01,  2.176000e+01,  2.174000e+01,\n",
       "         1.514900e+04, -3.200000e-01, -1.450000e+00,  2.202400e+01,\n",
       "         2.203700e+01,  2.268700e+01,  2.050585e+04,  2.579333e+04,\n",
       "         3.679697e+04],\n",
       "       [ 2.194000e+01,  2.215000e+01,  2.208000e+01,  2.177000e+01,\n",
       "         1.606100e+04,  1.400000e-01,  6.400000e-01,  2.220800e+01,\n",
       "         2.203000e+01,  2.281000e+01,  3.012082e+04,  3.026981e+04,\n",
       "         3.919625e+04],\n",
       "       [ 2.201000e+01,  2.216000e+01,  2.195000e+01,  2.181000e+01,\n",
       "         1.532449e+04, -6.000000e-02, -2.700000e-01,  2.219800e+01,\n",
       "         2.211400e+01,  2.294200e+01,  3.076006e+04,  3.186632e+04,\n",
       "         4.578187e+04],\n",
       "       [ 2.216000e+01,  2.216000e+01,  2.200000e+01,  2.181000e+01,\n",
       "         2.349900e+04, -3.200000e-01, -1.430000e+00,  2.215400e+01,\n",
       "         2.222900e+01,  2.308000e+01,  3.132216e+04,  3.649550e+04,\n",
       "         5.009845e+04],\n",
       "       [ 2.288000e+01,  2.288000e+01,  2.233000e+01,  2.223000e+01,\n",
       "         3.249578e+04, -2.900000e-01, -1.280000e+00,  2.210000e+01,\n",
       "         2.240600e+01,  2.316000e+01,  3.166756e+04,  4.571375e+04,\n",
       "         5.008374e+04],\n",
       "       [ 2.310000e+01,  2.323000e+01,  2.268000e+01,  2.248000e+01,\n",
       "         6.322383e+04,  6.500000e-01,  2.950000e+00,  2.205000e+01,\n",
       "         2.250100e+01,  2.323200e+01,  3.108080e+04,  4.461507e+04,\n",
       "         4.994370e+04],\n",
       "       [ 2.173000e+01,  2.205000e+01,  2.203000e+01,  2.169000e+01,\n",
       "         1.925719e+04,  3.000000e-01,  1.380000e+00,  2.185200e+01,\n",
       "         2.256700e+01,  2.328400e+01,  3.041880e+04,  4.092837e+04,\n",
       "         4.850345e+04],\n",
       "       [ 2.182000e+01,  2.207000e+01,  2.173000e+01,  2.153000e+01,\n",
       "         1.813500e+04,  0.000000e+00,  0.000000e+00,  2.203000e+01,\n",
       "         2.274600e+01,  2.338000e+01,  3.297258e+04,  4.221266e+04,\n",
       "         5.024223e+04],\n",
       "       [ 2.212000e+01,  2.212000e+01,  2.173000e+01,  2.161000e+01,\n",
       "         2.522600e+04, -3.300000e-01, -1.500000e+00,  2.230400e+01,\n",
       "         2.296800e+01,  2.347100e+01,  4.166883e+04,  4.472576e+04,\n",
       "         5.148417e+04]])"
      ]
     },
     "execution_count": 39,
     "metadata": {},
     "output_type": "execute_result"
    }
   ],
   "source": [
    "df_hist_mat = df_hist.as_matrix()\n",
    "df_hist_mat"
   ]
  },
  {
   "cell_type": "code",
   "execution_count": 30,
   "metadata": {},
   "outputs": [],
   "source": [
    "filehandler = open(\"df\", \"wb\")\n",
    "pickle.dump(df, filehandler)\n",
    "filehandler.close()"
   ]
  },
  {
   "cell_type": "code",
   "execution_count": 31,
   "metadata": {},
   "outputs": [
    {
     "name": "stdout",
     "output_type": "stream",
     "text": [
      "<bound method NDFrame.head of            date   open  close   high    low   volume    code\n",
      "99   2018-06-01  22.12  21.73  22.12  21.61  25226.0  600848\n",
      "100  2018-06-04  21.82  21.73  22.07  21.53  18135.0  600848\n",
      "101  2018-06-05  21.73  22.03  22.05  21.69  19257.0  600848\n",
      "102  2018-06-06  23.10  22.62  23.23  22.48  63223.0  600848\n",
      "103  2018-06-07  22.88  22.32  22.88  22.23  32495.0  600848\n",
      "104  2018-06-08  22.16  22.01  22.16  21.81  23499.0  600848\n",
      "105  2018-06-11  22.01  21.94  22.16  21.81  15324.0  600848\n",
      "106  2018-06-12  21.94  22.08  22.15  21.77  16061.0  600848\n",
      "107  2018-06-13  22.00  21.75  22.14  21.74  15149.0  600848\n",
      "108  2018-06-14  21.76  21.67  21.94  21.56  15457.0  600848>\n"
     ]
    }
   ],
   "source": [
    "pkl_file = open(\"df\", \"rb\")\n",
    "stock_data = pickle.load(pkl_file)\n",
    "print(stock_data.head)"
   ]
  },
  {
   "cell_type": "code",
   "execution_count": 32,
   "metadata": {},
   "outputs": [],
   "source": [
    "def date_to_num(dates):\n",
    "    num_time = []\n",
    "    for date in dates:\n",
    "        date_time = datetime.datetime.strptime(date, \"%Y-%m-%d\")\n",
    "        print(date_time)\n",
    "        num_date = date2num(date_time)\n",
    "        num_time.append(num_date)\n",
    "    return num_time"
   ]
  },
  {
   "cell_type": "code",
   "execution_count": 33,
   "metadata": {},
   "outputs": [
    {
     "name": "stdout",
     "output_type": "stream",
     "text": [
      "<class 'pandas.core.frame.DataFrame'>\n",
      "(10, 7)\n",
      "<bound method NDFrame.head of            date   open  close   high    low   volume    code\n",
      "99   2018-06-01  22.12  21.73  22.12  21.61  25226.0  600848\n",
      "100  2018-06-04  21.82  21.73  22.07  21.53  18135.0  600848\n",
      "101  2018-06-05  21.73  22.03  22.05  21.69  19257.0  600848\n",
      "102  2018-06-06  23.10  22.62  23.23  22.48  63223.0  600848\n",
      "103  2018-06-07  22.88  22.32  22.88  22.23  32495.0  600848\n",
      "104  2018-06-08  22.16  22.01  22.16  21.81  23499.0  600848\n",
      "105  2018-06-11  22.01  21.94  22.16  21.81  15324.0  600848\n",
      "106  2018-06-12  21.94  22.08  22.15  21.77  16061.0  600848\n",
      "107  2018-06-13  22.00  21.75  22.14  21.74  15149.0  600848\n",
      "108  2018-06-14  21.76  21.67  21.94  21.56  15457.0  600848>\n",
      "<class 'numpy.ndarray'>\n",
      "(10, 7)\n",
      "[['2018-06-01' 22.12 21.73 22.12 21.61 25226.0 '600848']\n",
      " ['2018-06-04' 21.82 21.73 22.07 21.53 18135.0 '600848']\n",
      " ['2018-06-05' 21.73 22.03 22.05 21.69 19257.0 '600848']\n",
      " ['2018-06-06' 23.1 22.62 23.23 22.48 63223.0 '600848']\n",
      " ['2018-06-07' 22.88 22.32 22.88 22.23 32495.0 '600848']\n",
      " ['2018-06-08' 22.16 22.01 22.16 21.81 23499.0 '600848']\n",
      " ['2018-06-11' 22.01 21.94 22.16 21.81 15324.0 '600848']\n",
      " ['2018-06-12' 21.94 22.08 22.15 21.77 16061.0 '600848']\n",
      " ['2018-06-13' 22.0 21.75 22.14 21.74 15149.0 '600848']\n",
      " ['2018-06-14' 21.76 21.67 21.94 21.56 15457.0 '600848']]\n"
     ]
    }
   ],
   "source": [
    "stock_data_mat = stock_data.as_matrix()\n",
    "print(type(stock_data))\n",
    "print(stock_data.shape)\n",
    "print(stock_data.head)\n",
    "print(type(stock_data_mat))\n",
    "print(stock_data_mat.shape)\n",
    "print(stock_data_mat)"
   ]
  },
  {
   "cell_type": "code",
   "execution_count": 17,
   "metadata": {},
   "outputs": [
    {
     "ename": "AttributeError",
     "evalue": "'numpy.float64' object has no attribute 'toordinal'",
     "output_type": "error",
     "traceback": [
      "\u001b[1;31m---------------------------------------------------------------------------\u001b[0m",
      "\u001b[1;31mAttributeError\u001b[0m                            Traceback (most recent call last)",
      "\u001b[1;32m<ipython-input-17-ed080911354a>\u001b[0m in \u001b[0;36m<module>\u001b[1;34m()\u001b[0m\n\u001b[1;32m----> 1\u001b[1;33m \u001b[0mdatenum\u001b[0m \u001b[1;33m=\u001b[0m \u001b[0mdate2num\u001b[0m\u001b[1;33m(\u001b[0m\u001b[0mdf_mat\u001b[0m\u001b[1;33m[\u001b[0m\u001b[1;33m:\u001b[0m\u001b[1;33m,\u001b[0m\u001b[1;36m0\u001b[0m\u001b[1;33m]\u001b[0m\u001b[1;33m)\u001b[0m\u001b[1;33m\u001b[0m\u001b[0m\n\u001b[0m\u001b[0;32m      2\u001b[0m \u001b[0mdf_mat\u001b[0m\u001b[1;33m[\u001b[0m\u001b[1;33m:\u001b[0m\u001b[1;33m,\u001b[0m\u001b[1;36m0\u001b[0m\u001b[1;33m]\u001b[0m \u001b[1;33m=\u001b[0m \u001b[0mdatenum\u001b[0m\u001b[1;33m\u001b[0m\u001b[0m\n\u001b[0;32m      3\u001b[0m \u001b[0mprint\u001b[0m\u001b[1;33m(\u001b[0m\u001b[0mdf_mat\u001b[0m\u001b[1;33m)\u001b[0m\u001b[1;33m\u001b[0m\u001b[0m\n",
      "\u001b[1;32mC:\\Anaconda3\\lib\\site-packages\\matplotlib\\dates.py\u001b[0m in \u001b[0;36mdate2num\u001b[1;34m(d)\u001b[0m\n\u001b[0;32m    394\u001b[0m         \u001b[1;32mif\u001b[0m \u001b[1;32mnot\u001b[0m \u001b[0md\u001b[0m\u001b[1;33m.\u001b[0m\u001b[0msize\u001b[0m\u001b[1;33m:\u001b[0m\u001b[1;33m\u001b[0m\u001b[0m\n\u001b[0;32m    395\u001b[0m             \u001b[1;32mreturn\u001b[0m \u001b[0md\u001b[0m\u001b[1;33m\u001b[0m\u001b[0m\n\u001b[1;32m--> 396\u001b[1;33m         \u001b[1;32mreturn\u001b[0m \u001b[0m_to_ordinalf_np_vectorized\u001b[0m\u001b[1;33m(\u001b[0m\u001b[0md\u001b[0m\u001b[1;33m)\u001b[0m\u001b[1;33m\u001b[0m\u001b[0m\n\u001b[0m\u001b[0;32m    397\u001b[0m \u001b[1;33m\u001b[0m\u001b[0m\n\u001b[0;32m    398\u001b[0m \u001b[1;33m\u001b[0m\u001b[0m\n",
      "\u001b[1;32mC:\\Anaconda3\\lib\\site-packages\\numpy\\lib\\function_base.py\u001b[0m in \u001b[0;36m__call__\u001b[1;34m(self, *args, **kwargs)\u001b[0m\n\u001b[0;32m   2753\u001b[0m             \u001b[0mvargs\u001b[0m\u001b[1;33m.\u001b[0m\u001b[0mextend\u001b[0m\u001b[1;33m(\u001b[0m\u001b[1;33m[\u001b[0m\u001b[0mkwargs\u001b[0m\u001b[1;33m[\u001b[0m\u001b[0m_n\u001b[0m\u001b[1;33m]\u001b[0m \u001b[1;32mfor\u001b[0m \u001b[0m_n\u001b[0m \u001b[1;32min\u001b[0m \u001b[0mnames\u001b[0m\u001b[1;33m]\u001b[0m\u001b[1;33m)\u001b[0m\u001b[1;33m\u001b[0m\u001b[0m\n\u001b[0;32m   2754\u001b[0m \u001b[1;33m\u001b[0m\u001b[0m\n\u001b[1;32m-> 2755\u001b[1;33m         \u001b[1;32mreturn\u001b[0m \u001b[0mself\u001b[0m\u001b[1;33m.\u001b[0m\u001b[0m_vectorize_call\u001b[0m\u001b[1;33m(\u001b[0m\u001b[0mfunc\u001b[0m\u001b[1;33m=\u001b[0m\u001b[0mfunc\u001b[0m\u001b[1;33m,\u001b[0m \u001b[0margs\u001b[0m\u001b[1;33m=\u001b[0m\u001b[0mvargs\u001b[0m\u001b[1;33m)\u001b[0m\u001b[1;33m\u001b[0m\u001b[0m\n\u001b[0m\u001b[0;32m   2756\u001b[0m \u001b[1;33m\u001b[0m\u001b[0m\n\u001b[0;32m   2757\u001b[0m     \u001b[1;32mdef\u001b[0m \u001b[0m_get_ufunc_and_otypes\u001b[0m\u001b[1;33m(\u001b[0m\u001b[0mself\u001b[0m\u001b[1;33m,\u001b[0m \u001b[0mfunc\u001b[0m\u001b[1;33m,\u001b[0m \u001b[0margs\u001b[0m\u001b[1;33m)\u001b[0m\u001b[1;33m:\u001b[0m\u001b[1;33m\u001b[0m\u001b[0m\n",
      "\u001b[1;32mC:\\Anaconda3\\lib\\site-packages\\numpy\\lib\\function_base.py\u001b[0m in \u001b[0;36m_vectorize_call\u001b[1;34m(self, func, args)\u001b[0m\n\u001b[0;32m   2823\u001b[0m             \u001b[0mres\u001b[0m \u001b[1;33m=\u001b[0m \u001b[0mfunc\u001b[0m\u001b[1;33m(\u001b[0m\u001b[1;33m)\u001b[0m\u001b[1;33m\u001b[0m\u001b[0m\n\u001b[0;32m   2824\u001b[0m         \u001b[1;32melse\u001b[0m\u001b[1;33m:\u001b[0m\u001b[1;33m\u001b[0m\u001b[0m\n\u001b[1;32m-> 2825\u001b[1;33m             \u001b[0mufunc\u001b[0m\u001b[1;33m,\u001b[0m \u001b[0motypes\u001b[0m \u001b[1;33m=\u001b[0m \u001b[0mself\u001b[0m\u001b[1;33m.\u001b[0m\u001b[0m_get_ufunc_and_otypes\u001b[0m\u001b[1;33m(\u001b[0m\u001b[0mfunc\u001b[0m\u001b[1;33m=\u001b[0m\u001b[0mfunc\u001b[0m\u001b[1;33m,\u001b[0m \u001b[0margs\u001b[0m\u001b[1;33m=\u001b[0m\u001b[0margs\u001b[0m\u001b[1;33m)\u001b[0m\u001b[1;33m\u001b[0m\u001b[0m\n\u001b[0m\u001b[0;32m   2826\u001b[0m \u001b[1;33m\u001b[0m\u001b[0m\n\u001b[0;32m   2827\u001b[0m             \u001b[1;31m# Convert args to object arrays first\u001b[0m\u001b[1;33m\u001b[0m\u001b[1;33m\u001b[0m\u001b[0m\n",
      "\u001b[1;32mC:\\Anaconda3\\lib\\site-packages\\numpy\\lib\\function_base.py\u001b[0m in \u001b[0;36m_get_ufunc_and_otypes\u001b[1;34m(self, func, args)\u001b[0m\n\u001b[0;32m   2783\u001b[0m \u001b[1;33m\u001b[0m\u001b[0m\n\u001b[0;32m   2784\u001b[0m             \u001b[0minputs\u001b[0m \u001b[1;33m=\u001b[0m \u001b[1;33m[\u001b[0m\u001b[0marg\u001b[0m\u001b[1;33m.\u001b[0m\u001b[0mflat\u001b[0m\u001b[1;33m[\u001b[0m\u001b[1;36m0\u001b[0m\u001b[1;33m]\u001b[0m \u001b[1;32mfor\u001b[0m \u001b[0marg\u001b[0m \u001b[1;32min\u001b[0m \u001b[0margs\u001b[0m\u001b[1;33m]\u001b[0m\u001b[1;33m\u001b[0m\u001b[0m\n\u001b[1;32m-> 2785\u001b[1;33m             \u001b[0moutputs\u001b[0m \u001b[1;33m=\u001b[0m \u001b[0mfunc\u001b[0m\u001b[1;33m(\u001b[0m\u001b[1;33m*\u001b[0m\u001b[0minputs\u001b[0m\u001b[1;33m)\u001b[0m\u001b[1;33m\u001b[0m\u001b[0m\n\u001b[0m\u001b[0;32m   2786\u001b[0m \u001b[1;33m\u001b[0m\u001b[0m\n\u001b[0;32m   2787\u001b[0m             \u001b[1;31m# Performance note: profiling indicates that -- for simple\u001b[0m\u001b[1;33m\u001b[0m\u001b[1;33m\u001b[0m\u001b[0m\n",
      "\u001b[1;32mC:\\Anaconda3\\lib\\site-packages\\matplotlib\\dates.py\u001b[0m in \u001b[0;36m_to_ordinalf\u001b[1;34m(dt)\u001b[0m\n\u001b[0;32m    243\u001b[0m         \u001b[0mtzi\u001b[0m \u001b[1;33m=\u001b[0m \u001b[0mUTC\u001b[0m\u001b[1;33m\u001b[0m\u001b[0m\n\u001b[0;32m    244\u001b[0m \u001b[1;33m\u001b[0m\u001b[0m\n\u001b[1;32m--> 245\u001b[1;33m     \u001b[0mbase\u001b[0m \u001b[1;33m=\u001b[0m \u001b[0mfloat\u001b[0m\u001b[1;33m(\u001b[0m\u001b[0mdt\u001b[0m\u001b[1;33m.\u001b[0m\u001b[0mtoordinal\u001b[0m\u001b[1;33m(\u001b[0m\u001b[1;33m)\u001b[0m\u001b[1;33m)\u001b[0m\u001b[1;33m\u001b[0m\u001b[0m\n\u001b[0m\u001b[0;32m    246\u001b[0m \u001b[1;33m\u001b[0m\u001b[0m\n\u001b[0;32m    247\u001b[0m     \u001b[1;31m# If it's sufficiently datetime-like, it will have a `date()` method\u001b[0m\u001b[1;33m\u001b[0m\u001b[1;33m\u001b[0m\u001b[0m\n",
      "\u001b[1;31mAttributeError\u001b[0m: 'numpy.float64' object has no attribute 'toordinal'"
     ]
    }
   ],
   "source": [
    "datenum = date2num(df_mat[:, 0])\n",
    "df_mat[:, 0] = datenum\n",
    "print(df_mat)\n"
   ]
  },
  {
   "cell_type": "code",
   "execution_count": null,
   "metadata": {},
   "outputs": [],
   "source": [
    "filehandler = open(\"stock_price\", \"wb\")\n",
    "pickle.dump(stock_price, filehandler)\n",
    "filehandler.close()"
   ]
  },
  {
   "cell_type": "code",
   "execution_count": null,
   "metadata": {},
   "outputs": [],
   "source": [
    "pkl_file = open(\"stock_price\", 'rb')\n",
    "stock_price = pickle.load(pkl_file)\n",
    "pkl_file.close()\n",
    "print(stock_price)"
   ]
  },
  {
   "cell_type": "code",
   "execution_count": null,
   "metadata": {},
   "outputs": [],
   "source": [
    "import matplotlib as mpl\n",
    "import matplotlib.pyplot as plt\n",
    "import mpl_finance as mpf\n",
    "%matplotlib inline"
   ]
  },
  {
   "cell_type": "code",
   "execution_count": null,
   "metadata": {},
   "outputs": [],
   "source": [
    "wdyx = ts.get_k_data(code, start=start_time, end=end_time, ktype = \"D\")"
   ]
  },
  {
   "cell_type": "code",
   "execution_count": null,
   "metadata": {},
   "outputs": [],
   "source": [
    "from matplotlib.pylab import date2num\n",
    "import datetime\n",
    "\n",
    "def date_to_num(dates):\n",
    "    num_time = []\n",
    "    for date in dates:\n",
    "        date_time = datetime.datetime.strptime(date, \"%Y-%m-%d\")\n",
    "        print(date_time)\n",
    "        num_date = date2num(date_time)\n",
    "        num_time.append(num_date)\n",
    "    return num_time"
   ]
  },
  {
   "cell_type": "code",
   "execution_count": null,
   "metadata": {},
   "outputs": [],
   "source": [
    "mat_wdyx = wdyx.as_matrix()\n",
    "print(mat_wdyx)\n",
    "print(mat_wdyx.size)\n",
    "print(type(mat_wdyx.shape))"
   ]
  },
  {
   "cell_type": "code",
   "execution_count": null,
   "metadata": {},
   "outputs": [],
   "source": [
    "mat_wdyx[:,0]"
   ]
  },
  {
   "cell_type": "code",
   "execution_count": null,
   "metadata": {},
   "outputs": [],
   "source": [
    "num_time = date_to_num(mat_wdyx[:, 0])\n",
    "mat_wdyx[:,0] = num_time\n",
    "print(mat_wdyx)"
   ]
  },
  {
   "cell_type": "code",
   "execution_count": null,
   "metadata": {},
   "outputs": [],
   "source": [
    "fig, ax = plt.subplots(figsize=(15,5))\n",
    "fig.subplots_adjust(bottom=0.5)\n",
    "mpf.candlestick_ochl(ax, mat_wdyx, width=0.6, colorup='g', colordown='r', alpha=1.0)\n",
    "plt.grid(True)\n",
    "# 设置日期刻度旋转的角度 \n",
    "plt.xticks(rotation=30)\n",
    "plt.title('wanda yuanxian 17')\n",
    "plt.xlabel('Date')\n",
    "plt.ylabel('Price')\n",
    "# x轴的刻度为日期\n",
    "ax.xaxis_date ()\n",
    "###candlestick_ochl()函数的参数\n",
    "# ax 绘图Axes的实例\n",
    "# mat_wdyx 价格历史数据\n",
    "# width    图像中红绿矩形的宽度,代表天数\n",
    "# colorup  收盘价格大于开盘价格时的颜色\n",
    "# colordown   低于开盘价格时矩形的颜色\n",
    "# alpha      矩形的颜色的透明度"
   ]
  },
  {
   "cell_type": "code",
   "execution_count": null,
   "metadata": {},
   "outputs": [],
   "source": [
    "fig, ax = plt.subplots(figsize=(15,5))\n",
    "mpf.plot_day_summary_oclh(ax, mat_wdyx,colorup='g', colordown='r')\n",
    "plt.grid(True)\n",
    "ax.xaxis_date()\n",
    "plt.title('wandayuanxian 17')\n",
    "plt.ylabel('Price')"
   ]
  },
  {
   "cell_type": "code",
   "execution_count": null,
   "metadata": {},
   "outputs": [],
   "source": [
    "fig, (ax1, ax2) = plt.subplots(2, sharex=True, figsize=(15,8))\n",
    "mpf.candlestick_ochl(ax1, mat_wdyx, width=1.0, colorup = 'g', colordown = 'r')\n",
    "ax1.set_title('wandayuanxian')\n",
    "ax1.set_ylabel('Price')\n",
    "ax1.grid(True)\n",
    "ax1.xaxis_date()\n",
    "plt.bar(mat_wdyx[:,0]-0.25, mat_wdyx[:,5], width= 0.5)\n",
    "ax2.set_ylabel('Volume')\n",
    "ax2.grid(True)"
   ]
  }
 ],
 "metadata": {
  "kernelspec": {
   "display_name": "Python 3",
   "language": "python",
   "name": "python3"
  },
  "language_info": {
   "codemirror_mode": {
    "name": "ipython",
    "version": 3
   },
   "file_extension": ".py",
   "mimetype": "text/x-python",
   "name": "python",
   "nbconvert_exporter": "python",
   "pygments_lexer": "ipython3",
   "version": "3.6.4"
  }
 },
 "nbformat": 4,
 "nbformat_minor": 2
}
