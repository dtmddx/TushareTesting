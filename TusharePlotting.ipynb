{
 "cells": [
  {
   "cell_type": "code",
   "execution_count": 6,
   "metadata": {},
   "outputs": [],
   "source": [
    "import tushare as ts\n",
    "import pickle"
   ]
  },
  {
   "cell_type": "code",
   "execution_count": 7,
   "metadata": {
    "scrolled": true
   },
   "outputs": [],
   "source": [
    "code = \"600848\"\n",
    "start_time = \"2018-06-01\"\n",
    "end_time = \"2018-07-01\"\n",
    "stock_price = ts.get_hist_data(code, start=start_time, end=end_time, ktype = \"D\")"
   ]
  },
  {
   "cell_type": "code",
   "execution_count": 7,
   "metadata": {},
   "outputs": [
    {
     "name": "stdout",
     "output_type": "stream",
     "text": [
      "<class 'pandas.core.frame.DataFrame'>\n"
     ]
    }
   ],
   "source": [
    "print(type(stock_price))"
   ]
  },
  {
   "cell_type": "code",
   "execution_count": 8,
   "metadata": {},
   "outputs": [
    {
     "name": "stdout",
     "output_type": "stream",
     "text": [
      "<bound method NDFrame.head of              open   high  close    low    volume  price_change  p_change  \\\n",
      "date                                                                       \n",
      "2018-06-14  21.76  21.94  21.68  21.56  15457.00         -0.07     -0.32   \n",
      "2018-06-13  22.00  22.14  21.76  21.74  15149.00         -0.32     -1.45   \n",
      "2018-06-12  21.94  22.15  22.08  21.77  16061.00          0.14      0.64   \n",
      "2018-06-11  22.01  22.16  21.95  21.81  15324.49         -0.06     -0.27   \n",
      "2018-06-08  22.16  22.16  22.00  21.81  23499.00         -0.32     -1.43   \n",
      "2018-06-07  22.88  22.88  22.33  22.23  32495.78         -0.29     -1.28   \n",
      "2018-06-06  23.10  23.23  22.68  22.48  63223.83          0.65      2.95   \n",
      "2018-06-05  21.73  22.05  22.03  21.69  19257.19          0.30      1.38   \n",
      "2018-06-04  21.82  22.07  21.73  21.53  18135.00          0.00      0.00   \n",
      "2018-06-01  22.12  22.12  21.73  21.61  25226.00         -0.33     -1.50   \n",
      "\n",
      "               ma5    ma10    ma20     v_ma5    v_ma10    v_ma20  \n",
      "date                                                              \n",
      "2018-06-14  21.894  21.997  22.586  17098.10  24382.83  35231.77  \n",
      "2018-06-13  22.024  22.037  22.687  20505.85  25793.33  36796.97  \n",
      "2018-06-12  22.208  22.030  22.810  30120.82  30269.81  39196.25  \n",
      "2018-06-11  22.198  22.114  22.942  30760.06  31866.32  45781.87  \n",
      "2018-06-08  22.154  22.229  23.080  31322.16  36495.50  50098.45  \n",
      "2018-06-07  22.100  22.406  23.160  31667.56  45713.75  50083.74  \n",
      "2018-06-06  22.050  22.501  23.232  31080.80  44615.07  49943.70  \n",
      "2018-06-05  21.852  22.567  23.284  30418.80  40928.37  48503.45  \n",
      "2018-06-04  22.030  22.746  23.380  32972.58  42212.66  50242.23  \n",
      "2018-06-01  22.304  22.968  23.471  41668.83  44725.76  51484.17  >\n"
     ]
    }
   ],
   "source": [
    "print(stock_price.head)"
   ]
  },
  {
   "cell_type": "code",
   "execution_count": 9,
   "metadata": {},
   "outputs": [],
   "source": [
    "filehandler = open(\"stock_price\", \"wb\")\n",
    "pickle.dump(stock_price, filehandler)\n",
    "filehandler.close()"
   ]
  },
  {
   "cell_type": "code",
   "execution_count": 10,
   "metadata": {},
   "outputs": [
    {
     "name": "stdout",
     "output_type": "stream",
     "text": [
      "             open   high  close    low    volume  price_change  p_change  \\\n",
      "date                                                                       \n",
      "2018-06-14  21.76  21.94  21.68  21.56  15457.00         -0.07     -0.32   \n",
      "2018-06-13  22.00  22.14  21.76  21.74  15149.00         -0.32     -1.45   \n",
      "2018-06-12  21.94  22.15  22.08  21.77  16061.00          0.14      0.64   \n",
      "2018-06-11  22.01  22.16  21.95  21.81  15324.49         -0.06     -0.27   \n",
      "2018-06-08  22.16  22.16  22.00  21.81  23499.00         -0.32     -1.43   \n",
      "2018-06-07  22.88  22.88  22.33  22.23  32495.78         -0.29     -1.28   \n",
      "2018-06-06  23.10  23.23  22.68  22.48  63223.83          0.65      2.95   \n",
      "2018-06-05  21.73  22.05  22.03  21.69  19257.19          0.30      1.38   \n",
      "2018-06-04  21.82  22.07  21.73  21.53  18135.00          0.00      0.00   \n",
      "2018-06-01  22.12  22.12  21.73  21.61  25226.00         -0.33     -1.50   \n",
      "\n",
      "               ma5    ma10    ma20     v_ma5    v_ma10    v_ma20  \n",
      "date                                                              \n",
      "2018-06-14  21.894  21.997  22.586  17098.10  24382.83  35231.77  \n",
      "2018-06-13  22.024  22.037  22.687  20505.85  25793.33  36796.97  \n",
      "2018-06-12  22.208  22.030  22.810  30120.82  30269.81  39196.25  \n",
      "2018-06-11  22.198  22.114  22.942  30760.06  31866.32  45781.87  \n",
      "2018-06-08  22.154  22.229  23.080  31322.16  36495.50  50098.45  \n",
      "2018-06-07  22.100  22.406  23.160  31667.56  45713.75  50083.74  \n",
      "2018-06-06  22.050  22.501  23.232  31080.80  44615.07  49943.70  \n",
      "2018-06-05  21.852  22.567  23.284  30418.80  40928.37  48503.45  \n",
      "2018-06-04  22.030  22.746  23.380  32972.58  42212.66  50242.23  \n",
      "2018-06-01  22.304  22.968  23.471  41668.83  44725.76  51484.17  \n"
     ]
    }
   ],
   "source": [
    "pkl_file = open(\"stock_price\", 'rb')\n",
    "stock_price = pickle.load(pkl_file)\n",
    "pkl_file.close()\n",
    "print(stock_price)"
   ]
  },
  {
   "cell_type": "code",
   "execution_count": 4,
   "metadata": {},
   "outputs": [],
   "source": [
    "import matplotlib as mpl\n",
    "import matplotlib.pyplot as plt\n",
    "import mpl_finance as mpf\n",
    "%matplotlib inline"
   ]
  },
  {
   "cell_type": "code",
   "execution_count": 15,
   "metadata": {},
   "outputs": [],
   "source": [
    "wdyx = ts.get_k_data(code, start=start_time, end=end_time, ktype = \"D\")"
   ]
  },
  {
   "cell_type": "code",
   "execution_count": 46,
   "metadata": {},
   "outputs": [],
   "source": [
    "from matplotlib.pylab import date2num\n",
    "import datetime\n",
    "\n",
    "def date_to_num(dates):\n",
    "    num_time = []\n",
    "    for date in dates:\n",
    "        date_time = datetime.datetime.strptime(date, \"%Y-%m-%d\")\n",
    "        print(date_time)\n",
    "        num_date = date2num(date_time)\n",
    "        num_time.append(num_date)\n",
    "    return num_time"
   ]
  },
  {
   "cell_type": "code",
   "execution_count": 40,
   "metadata": {},
   "outputs": [
    {
     "name": "stdout",
     "output_type": "stream",
     "text": [
      "[['2018-06-01' 22.12 21.73 22.12 21.61 25226.0 '600848']\n",
      " ['2018-06-04' 21.82 21.73 22.07 21.53 18135.0 '600848']\n",
      " ['2018-06-05' 21.73 22.03 22.05 21.69 19257.0 '600848']\n",
      " ['2018-06-06' 23.1 22.62 23.23 22.48 63223.0 '600848']\n",
      " ['2018-06-07' 22.88 22.32 22.88 22.23 32495.0 '600848']\n",
      " ['2018-06-08' 22.16 22.01 22.16 21.81 23499.0 '600848']\n",
      " ['2018-06-11' 22.01 21.94 22.16 21.81 15324.0 '600848']\n",
      " ['2018-06-12' 21.94 22.08 22.15 21.77 16061.0 '600848']\n",
      " ['2018-06-13' 22.0 21.75 22.14 21.74 15149.0 '600848']\n",
      " ['2018-06-14' 21.76 21.67 21.94 21.56 15457.0 '600848']]\n",
      "70\n",
      "<class 'tuple'>\n"
     ]
    }
   ],
   "source": [
    "mat_wdyx = wdyx.as_matrix()\n",
    "print(mat_wdyx)\n",
    "print(mat_wdyx.size)\n",
    "print(type(mat_wdyx.shape))"
   ]
  },
  {
   "cell_type": "code",
   "execution_count": 41,
   "metadata": {},
   "outputs": [
    {
     "data": {
      "text/plain": [
       "array(['2018-06-01', '2018-06-04', '2018-06-05', '2018-06-06',\n",
       "       '2018-06-07', '2018-06-08', '2018-06-11', '2018-06-12',\n",
       "       '2018-06-13', '2018-06-14'], dtype=object)"
      ]
     },
     "execution_count": 41,
     "metadata": {},
     "output_type": "execute_result"
    }
   ],
   "source": [
    "mat_wdyx[:,0]"
   ]
  },
  {
   "cell_type": "code",
   "execution_count": 47,
   "metadata": {},
   "outputs": [
    {
     "ename": "TypeError",
     "evalue": "strptime() argument 1 must be str, not float",
     "output_type": "error",
     "traceback": [
      "\u001b[1;31m---------------------------------------------------------------------------\u001b[0m",
      "\u001b[1;31mTypeError\u001b[0m                                 Traceback (most recent call last)",
      "\u001b[1;32m<ipython-input-47-911281a40179>\u001b[0m in \u001b[0;36m<module>\u001b[1;34m()\u001b[0m\n\u001b[1;32m----> 1\u001b[1;33m \u001b[0mnum_time\u001b[0m \u001b[1;33m=\u001b[0m \u001b[0mdate_to_num\u001b[0m\u001b[1;33m(\u001b[0m\u001b[0mmat_wdyx\u001b[0m\u001b[1;33m[\u001b[0m\u001b[1;33m:\u001b[0m\u001b[1;33m,\u001b[0m \u001b[1;36m0\u001b[0m\u001b[1;33m]\u001b[0m\u001b[1;33m)\u001b[0m\u001b[1;33m\u001b[0m\u001b[0m\n\u001b[0m\u001b[0;32m      2\u001b[0m \u001b[0mmat_wdyx\u001b[0m\u001b[1;33m[\u001b[0m\u001b[1;33m:\u001b[0m\u001b[1;33m,\u001b[0m\u001b[1;36m0\u001b[0m\u001b[1;33m]\u001b[0m \u001b[1;33m=\u001b[0m \u001b[0mnum_time\u001b[0m\u001b[1;33m\u001b[0m\u001b[0m\n\u001b[0;32m      3\u001b[0m \u001b[0mprint\u001b[0m\u001b[1;33m(\u001b[0m\u001b[0mmat_wdyx\u001b[0m\u001b[1;33m)\u001b[0m\u001b[1;33m\u001b[0m\u001b[0m\n",
      "\u001b[1;32m<ipython-input-46-eb94d42f9594>\u001b[0m in \u001b[0;36mdate_to_num\u001b[1;34m(dates)\u001b[0m\n\u001b[0;32m      5\u001b[0m     \u001b[0mnum_time\u001b[0m \u001b[1;33m=\u001b[0m \u001b[1;33m[\u001b[0m\u001b[1;33m]\u001b[0m\u001b[1;33m\u001b[0m\u001b[0m\n\u001b[0;32m      6\u001b[0m     \u001b[1;32mfor\u001b[0m \u001b[0mdate\u001b[0m \u001b[1;32min\u001b[0m \u001b[0mdates\u001b[0m\u001b[1;33m:\u001b[0m\u001b[1;33m\u001b[0m\u001b[0m\n\u001b[1;32m----> 7\u001b[1;33m         \u001b[0mdate_time\u001b[0m \u001b[1;33m=\u001b[0m \u001b[0mdatetime\u001b[0m\u001b[1;33m.\u001b[0m\u001b[0mdatetime\u001b[0m\u001b[1;33m.\u001b[0m\u001b[0mstrptime\u001b[0m\u001b[1;33m(\u001b[0m\u001b[0mdate\u001b[0m\u001b[1;33m,\u001b[0m \u001b[1;34m\"%Y-%m-%d\"\u001b[0m\u001b[1;33m)\u001b[0m\u001b[1;33m\u001b[0m\u001b[0m\n\u001b[0m\u001b[0;32m      8\u001b[0m         \u001b[0mprint\u001b[0m\u001b[1;33m(\u001b[0m\u001b[0mdate_time\u001b[0m\u001b[1;33m)\u001b[0m\u001b[1;33m\u001b[0m\u001b[0m\n\u001b[0;32m      9\u001b[0m         \u001b[0mnum_date\u001b[0m \u001b[1;33m=\u001b[0m \u001b[0mdate2num\u001b[0m\u001b[1;33m(\u001b[0m\u001b[0mdate_time\u001b[0m\u001b[1;33m)\u001b[0m\u001b[1;33m\u001b[0m\u001b[0m\n",
      "\u001b[1;31mTypeError\u001b[0m: strptime() argument 1 must be str, not float"
     ]
    }
   ],
   "source": [
    "num_time = date_to_num(mat_wdyx[:, 0])\n",
    "mat_wdyx[:,0] = num_time\n",
    "print(mat_wdyx)"
   ]
  },
  {
   "cell_type": "code",
   "execution_count": 43,
   "metadata": {},
   "outputs": [
    {
     "data": {
      "image/png": "[encoded data removed]",
      "text/plain": [
       "<matplotlib.figure.Figure at 0x1e4ecc97780>"
      ]
     },
     "metadata": {},
     "output_type": "display_data"
    }
   ],
   "source": [
    "fig, ax = plt.subplots(figsize=(15,5))\n",
    "fig.subplots_adjust(bottom=0.5)\n",
    "mpf.candlestick_ochl(ax, mat_wdyx, width=0.6, colorup='g', colordown='r', alpha=1.0)\n",
    "plt.grid(True)\n",
    "# 设置日期刻度旋转的角度 \n",
    "plt.xticks(rotation=30)\n",
    "plt.title('wanda yuanxian 17')\n",
    "plt.xlabel('Date')\n",
    "plt.ylabel('Price')\n",
    "# x轴的刻度为日期\n",
    "ax.xaxis_date ()\n",
    "###candlestick_ochl()函数的参数\n",
    "# ax 绘图Axes的实例\n",
    "# mat_wdyx 价格历史数据\n",
    "# width    图像中红绿矩形的宽度,代表天数\n",
    "# colorup  收盘价格大于开盘价格时的颜色\n",
    "# colordown   低于开盘价格时矩形的颜色\n",
    "# alpha      矩形的颜色的透明度"
   ]
  },
  {
   "cell_type": "code",
   "execution_count": 44,
   "metadata": {},
   "outputs": [
    {
     "data": {
      "text/plain": [
       "Text(0,0.5,'Price')"
      ]
     },
     "execution_count": 44,
     "metadata": {},
     "output_type": "execute_result"
    },
    {
     "data": {
      "image/png": "[encoded data removed]",
      "text/plain": [
       "<matplotlib.figure.Figure at 0x1e4ecc97320>"
      ]
     },
     "metadata": {},
     "output_type": "display_data"
    }
   ],
   "source": [
    "fig, ax = plt.subplots(figsize=(15,5))\n",
    "mpf.plot_day_summary_oclh(ax, mat_wdyx,colorup='g', colordown='r')\n",
    "plt.grid(True)\n",
    "ax.xaxis_date()\n",
    "plt.title('wandayuanxian 17')\n",
    "plt.ylabel('Price')"
   ]
  },
  {
   "cell_type": "code",
   "execution_count": 45,
   "metadata": {},
   "outputs": [
    {
     "data": {
      "image/png": "[encoded data removed]",
      "text/plain": [
       "<matplotlib.figure.Figure at 0x1e4ecc5d710>"
      ]
     },
     "metadata": {},
     "output_type": "display_data"
    }
   ],
   "source": [
    "fig, (ax1, ax2) = plt.subplots(2, sharex=True, figsize=(15,8))\n",
    "mpf.candlestick_ochl(ax1, mat_wdyx, width=1.0, colorup = 'g', colordown = 'r')\n",
    "ax1.set_title('wandayuanxian')\n",
    "ax1.set_ylabel('Price')\n",
    "ax1.grid(True)\n",
    "ax1.xaxis_date()\n",
    "plt.bar(mat_wdyx[:,0]-0.25, mat_wdyx[:,5], width= 0.5)\n",
    "ax2.set_ylabel('Volume')\n",
    "ax2.grid(True)"
   ]
  }
 ],
 "metadata": {
  "kernelspec": {
   "display_name": "Python 3",
   "language": "python",
   "name": "python3"
  },
  "language_info": {
   "codemirror_mode": {
    "name": "ipython",
    "version": 3
   },
   "file_extension": ".py",
   "mimetype": "text/x-python",
   "name": "python",
   "nbconvert_exporter": "python",
   "pygments_lexer": "ipython3",
   "version": "3.6.4"
  }
 },
 "nbformat": 4,
 "nbformat_minor": 2
}
